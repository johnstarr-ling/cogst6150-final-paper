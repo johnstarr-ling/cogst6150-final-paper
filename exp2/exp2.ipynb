{
 "cells": [
  {
   "cell_type": "code",
   "execution_count": 1,
   "metadata": {},
   "outputs": [],
   "source": [
    "from openai import OpenAI\n",
    "import numpy as np \n",
    "import pandas as pd\n",
    "import seaborn as sns\n",
    "import random\n",
    "import matplotlib.pyplot as plt"
   ]
  },
  {
   "cell_type": "code",
   "execution_count": 2,
   "metadata": {},
   "outputs": [],
   "source": [
    "client = OpenAI()"
   ]
  },
  {
   "cell_type": "markdown",
   "metadata": {},
   "source": [
    "# EXPERIMENT 2\n",
    "The structure of this file is nearly identical to the related file in the `exp1` folder. We do not show all comments here."
   ]
  },
  {
   "cell_type": "code",
   "execution_count": 3,
   "metadata": {},
   "outputs": [],
   "source": [
    "# Loading in data:\n",
    "exp2_stimuli = pd.read_csv('experiment2stimuli.csv')"
   ]
  },
  {
   "cell_type": "code",
   "execution_count": 4,
   "metadata": {},
   "outputs": [
    {
     "data": {
      "text/html": [
       "<div>\n",
       "<style scoped>\n",
       "    .dataframe tbody tr th:only-of-type {\n",
       "        vertical-align: middle;\n",
       "    }\n",
       "\n",
       "    .dataframe tbody tr th {\n",
       "        vertical-align: top;\n",
       "    }\n",
       "\n",
       "    .dataframe thead th {\n",
       "        text-align: right;\n",
       "    }\n",
       "</style>\n",
       "<table border=\"1\" class=\"dataframe\">\n",
       "  <thead>\n",
       "    <tr style=\"text-align: right;\">\n",
       "      <th></th>\n",
       "      <th>linebreaks</th>\n",
       "      <th>rhyme</th>\n",
       "      <th>shownword</th>\n",
       "      <th>poem_number</th>\n",
       "      <th>condition</th>\n",
       "      <th>stimuli</th>\n",
       "    </tr>\n",
       "  </thead>\n",
       "  <tbody>\n",
       "    <tr>\n",
       "      <th>0</th>\n",
       "      <td>yes</td>\n",
       "      <td>no</td>\n",
       "      <td>others</td>\n",
       "      <td>a</td>\n",
       "      <td>OTHER (LINEBREAK)</td>\n",
       "      <td>At speaking my mind,\\n I'm one of the best.\\n ...</td>\n",
       "    </tr>\n",
       "    <tr>\n",
       "      <th>1</th>\n",
       "      <td>yes</td>\n",
       "      <td>yes</td>\n",
       "      <td>rest</td>\n",
       "      <td>a</td>\n",
       "      <td>POEM</td>\n",
       "      <td>At speaking my mind,\\n I'm one of the best.\\n ...</td>\n",
       "    </tr>\n",
       "    <tr>\n",
       "      <th>2</th>\n",
       "      <td>no</td>\n",
       "      <td>yes</td>\n",
       "      <td>rest</td>\n",
       "      <td>a</td>\n",
       "      <td>OTHER (RHYME)</td>\n",
       "      <td>At speaking my mind, I'm one of the best. But ...</td>\n",
       "    </tr>\n",
       "    <tr>\n",
       "      <th>3</th>\n",
       "      <td>no</td>\n",
       "      <td>no</td>\n",
       "      <td>others</td>\n",
       "      <td>a</td>\n",
       "      <td>OTHER (PROSE)</td>\n",
       "      <td>At speaking my mind, I'm one of the best. But ...</td>\n",
       "    </tr>\n",
       "    <tr>\n",
       "      <th>4</th>\n",
       "      <td>no</td>\n",
       "      <td>no</td>\n",
       "      <td>hello</td>\n",
       "      <td>b</td>\n",
       "      <td>OTHER (PROSE)</td>\n",
       "      <td>Just a brown person who's not afraid of puddin...</td>\n",
       "    </tr>\n",
       "  </tbody>\n",
       "</table>\n",
       "</div>"
      ],
      "text/plain": [
       "  linebreaks rhyme shownword poem_number          condition  \\\n",
       "0        yes    no    others           a  OTHER (LINEBREAK)   \n",
       "1        yes   yes      rest           a               POEM   \n",
       "2         no   yes      rest           a      OTHER (RHYME)   \n",
       "3         no    no    others           a      OTHER (PROSE)   \n",
       "4         no    no     hello           b      OTHER (PROSE)   \n",
       "\n",
       "                                             stimuli  \n",
       "0  At speaking my mind,\\n I'm one of the best.\\n ...  \n",
       "1  At speaking my mind,\\n I'm one of the best.\\n ...  \n",
       "2  At speaking my mind, I'm one of the best. But ...  \n",
       "3  At speaking my mind, I'm one of the best. But ...  \n",
       "4  Just a brown person who's not afraid of puddin...  "
      ]
     },
     "execution_count": 4,
     "metadata": {},
     "output_type": "execute_result"
    }
   ],
   "source": [
    "exp2_stimuli.head()"
   ]
  },
  {
   "cell_type": "code",
   "execution_count": 5,
   "metadata": {},
   "outputs": [],
   "source": [
    "instructions = \"\"\"INSTRUCTIONS: In this experiment, you will read a passage. You must determine if the passage is a poem or not. \n",
    "\n",
    "If the passage is a poem, write 'Poem'; if the passage is not a poem, write 'Other'.\"\"\""
   ]
  },
  {
   "cell_type": "code",
   "execution_count": 6,
   "metadata": {},
   "outputs": [],
   "source": [
    "practice_trial_1 = \"\"\"[BEGIN PASSAGE]\n",
    "Twinkle twinkle\n",
    "little star.\n",
    "How I wonder\n",
    "what you are.\n",
    "[END PASSAGE]\n",
    "The passage above is a poem, meaning you should write 'Poem'. \"\"\""
   ]
  },
  {
   "cell_type": "code",
   "execution_count": 7,
   "metadata": {},
   "outputs": [],
   "source": [
    "practice_trial_2 = \"\"\"[BEGIN PASSAGE]\n",
    "I went to the store and picked up dinner. After eating, I watched some television.\n",
    "[END PASSAGE]\n",
    "\n",
    "The passage above is not a poem, meaning you should write 'Other'. \"\"\""
   ]
  },
  {
   "cell_type": "code",
   "execution_count": 8,
   "metadata": {},
   "outputs": [],
   "source": [
    "def exp2_generations(input_row, instructions=instructions, pt1=practice_trial_1, pt2=practice_trial_2):\n",
    "\n",
    "    # Poem text\n",
    "    poem = input_row[-1]\n",
    "\n",
    "    completion = client.chat.completions.create(\n",
    "        model=\"gpt-4\",\n",
    "        messages=[\n",
    "\n",
    "        # Comment out the following for true zero-shot analyses (with no instructions)\n",
    "        {\"role\": \"system\", \"content\": instructions},\n",
    "\n",
    "        # Comment out the following two lines for zero-shot analyses\n",
    "        {\"role\": \"system\", \"content\": pt1},\n",
    "        {\"role\": \"system\", \"content\": pt2},\n",
    "\n",
    "        {\"role\": \"user\", \"content\": f\"\"\"[BEGIN PASSAGE]\n",
    "        {poem}\n",
    "        [END PASSAGE]\n",
    "        \n",
    "        Is the passage above a poem or not? If the passage is a poem, write 'Poem'; if the passage is not a poem, write 'Other'.\n",
    "        \n",
    "        Respond with your choice only. Do not add any additional text or structure besides your decision.\"\"\"}\n",
    "        ],\n",
    "        timeout=3\n",
    "    )\n",
    "    return completion.choices[0].message.content"
   ]
  },
  {
   "cell_type": "code",
   "execution_count": 9,
   "metadata": {},
   "outputs": [
    {
     "data": {
      "text/plain": [
       "'Poem'"
      ]
     },
     "execution_count": 9,
     "metadata": {},
     "output_type": "execute_result"
    }
   ],
   "source": [
    "# Demo\n",
    "exp2_generations(exp2_stimuli.iloc[0])"
   ]
  },
  {
   "cell_type": "markdown",
   "metadata": {},
   "source": [
    "### Generating GPT4 Responses"
   ]
  },
  {
   "cell_type": "code",
   "execution_count": 10,
   "metadata": {},
   "outputs": [],
   "source": [
    "# Iterating over rows three times:\n",
    "exp2_gpt4_1 = []\n",
    "for i in range(len(exp2_stimuli)):\n",
    "    exp2_gpt4_1.append(exp2_generations(exp2_stimuli.iloc[i]))"
   ]
  },
  {
   "cell_type": "code",
   "execution_count": 11,
   "metadata": {},
   "outputs": [],
   "source": [
    "exp2_gpt4_2 = []\n",
    "for i in range(len(exp2_stimuli)):\n",
    "    exp2_gpt4_2.append(exp2_generations(exp2_stimuli.iloc[i]))"
   ]
  },
  {
   "cell_type": "code",
   "execution_count": 12,
   "metadata": {},
   "outputs": [],
   "source": [
    "exp2_gpt4_3 = []\n",
    "for i in range(len(exp2_stimuli)):\n",
    "    exp2_gpt4_3.append(exp2_generations(exp2_stimuli.iloc[i]))"
   ]
  },
  {
   "cell_type": "code",
   "execution_count": 13,
   "metadata": {},
   "outputs": [],
   "source": [
    "# Adding to our dataframe:\n",
    "exp2_stimuli['gpt4_selections_1'] = exp2_gpt4_1\n",
    "exp2_stimuli['gpt4_selections_2'] = exp2_gpt4_2\n",
    "exp2_stimuli['gpt4_selections_3'] = exp2_gpt4_3"
   ]
  },
  {
   "cell_type": "code",
   "execution_count": 14,
   "metadata": {},
   "outputs": [],
   "source": [
    "# def code_accept_reject(string):\n",
    "#     if string == '[BLACK BOX]':\n",
    "#         return 'Reject'\n",
    "#     else:\n",
    "#         return 'Accept'"
   ]
  },
  {
   "cell_type": "code",
   "execution_count": 15,
   "metadata": {},
   "outputs": [],
   "source": [
    "# exp1_stimuli['decision_1'] = exp1_stimuli['gpt4_selections_1'].apply(code_accept_reject)\n",
    "# exp1_stimuli['decision_2'] = exp1_stimuli['gpt4_selections_2'].apply(code_accept_reject)\n",
    "# exp1_stimuli['decision_3'] = exp1_stimuli['gpt4_selections_3'].apply(code_accept_reject)"
   ]
  },
  {
   "cell_type": "code",
   "execution_count": 16,
   "metadata": {},
   "outputs": [
    {
     "data": {
      "text/html": [
       "<div>\n",
       "<style scoped>\n",
       "    .dataframe tbody tr th:only-of-type {\n",
       "        vertical-align: middle;\n",
       "    }\n",
       "\n",
       "    .dataframe tbody tr th {\n",
       "        vertical-align: top;\n",
       "    }\n",
       "\n",
       "    .dataframe thead th {\n",
       "        text-align: right;\n",
       "    }\n",
       "</style>\n",
       "<table border=\"1\" class=\"dataframe\">\n",
       "  <thead>\n",
       "    <tr style=\"text-align: right;\">\n",
       "      <th></th>\n",
       "      <th>linebreaks</th>\n",
       "      <th>rhyme</th>\n",
       "      <th>shownword</th>\n",
       "      <th>poem_number</th>\n",
       "      <th>condition</th>\n",
       "      <th>stimuli</th>\n",
       "      <th>gpt4_selections_1</th>\n",
       "      <th>gpt4_selections_2</th>\n",
       "      <th>gpt4_selections_3</th>\n",
       "    </tr>\n",
       "  </thead>\n",
       "  <tbody>\n",
       "    <tr>\n",
       "      <th>0</th>\n",
       "      <td>yes</td>\n",
       "      <td>no</td>\n",
       "      <td>others</td>\n",
       "      <td>a</td>\n",
       "      <td>OTHER (LINEBREAK)</td>\n",
       "      <td>At speaking my mind,\\n I'm one of the best.\\n ...</td>\n",
       "      <td>Poem</td>\n",
       "      <td>Poem</td>\n",
       "      <td>Poem</td>\n",
       "    </tr>\n",
       "    <tr>\n",
       "      <th>1</th>\n",
       "      <td>yes</td>\n",
       "      <td>yes</td>\n",
       "      <td>rest</td>\n",
       "      <td>a</td>\n",
       "      <td>POEM</td>\n",
       "      <td>At speaking my mind,\\n I'm one of the best.\\n ...</td>\n",
       "      <td>Poem</td>\n",
       "      <td>Poem</td>\n",
       "      <td>Poem</td>\n",
       "    </tr>\n",
       "    <tr>\n",
       "      <th>2</th>\n",
       "      <td>no</td>\n",
       "      <td>yes</td>\n",
       "      <td>rest</td>\n",
       "      <td>a</td>\n",
       "      <td>OTHER (RHYME)</td>\n",
       "      <td>At speaking my mind, I'm one of the best. But ...</td>\n",
       "      <td>Poem</td>\n",
       "      <td>Poem</td>\n",
       "      <td>Poem</td>\n",
       "    </tr>\n",
       "    <tr>\n",
       "      <th>3</th>\n",
       "      <td>no</td>\n",
       "      <td>no</td>\n",
       "      <td>others</td>\n",
       "      <td>a</td>\n",
       "      <td>OTHER (PROSE)</td>\n",
       "      <td>At speaking my mind, I'm one of the best. But ...</td>\n",
       "      <td>Poem</td>\n",
       "      <td>Poem</td>\n",
       "      <td>Poem</td>\n",
       "    </tr>\n",
       "    <tr>\n",
       "      <th>4</th>\n",
       "      <td>no</td>\n",
       "      <td>no</td>\n",
       "      <td>hello</td>\n",
       "      <td>b</td>\n",
       "      <td>OTHER (PROSE)</td>\n",
       "      <td>Just a brown person who's not afraid of puddin...</td>\n",
       "      <td>Other</td>\n",
       "      <td>Other</td>\n",
       "      <td>Other</td>\n",
       "    </tr>\n",
       "  </tbody>\n",
       "</table>\n",
       "</div>"
      ],
      "text/plain": [
       "  linebreaks rhyme shownword poem_number          condition  \\\n",
       "0        yes    no    others           a  OTHER (LINEBREAK)   \n",
       "1        yes   yes      rest           a               POEM   \n",
       "2         no   yes      rest           a      OTHER (RHYME)   \n",
       "3         no    no    others           a      OTHER (PROSE)   \n",
       "4         no    no     hello           b      OTHER (PROSE)   \n",
       "\n",
       "                                             stimuli gpt4_selections_1  \\\n",
       "0  At speaking my mind,\\n I'm one of the best.\\n ...              Poem   \n",
       "1  At speaking my mind,\\n I'm one of the best.\\n ...              Poem   \n",
       "2  At speaking my mind, I'm one of the best. But ...              Poem   \n",
       "3  At speaking my mind, I'm one of the best. But ...              Poem   \n",
       "4  Just a brown person who's not afraid of puddin...             Other   \n",
       "\n",
       "  gpt4_selections_2 gpt4_selections_3  \n",
       "0              Poem              Poem  \n",
       "1              Poem              Poem  \n",
       "2              Poem              Poem  \n",
       "3              Poem              Poem  \n",
       "4             Other             Other  "
      ]
     },
     "execution_count": 16,
     "metadata": {},
     "output_type": "execute_result"
    }
   ],
   "source": [
    "exp2_stimuli.head()"
   ]
  },
  {
   "cell_type": "code",
   "execution_count": 17,
   "metadata": {},
   "outputs": [],
   "source": [
    "def exp2_cleaning(dataframe, iteration='1'):\n",
    "    decision = f'gpt4_selections_{iteration}'\n",
    "\n",
    "    mini_df = dataframe[['condition', decision]].copy()\n",
    "    mini_df = mini_df.rename(columns={decision:'decision'})\n",
    "    return mini_df"
   ]
  },
  {
   "cell_type": "markdown",
   "metadata": {},
   "source": [
    "Apologies for the somewhat lazy code!"
   ]
  },
  {
   "cell_type": "code",
   "execution_count": 18,
   "metadata": {},
   "outputs": [],
   "source": [
    "run_1 = exp2_cleaning(exp2_stimuli)\n",
    "run_2 = exp2_cleaning(exp2_stimuli, iteration='2')\n",
    "run_3 = exp2_cleaning(exp2_stimuli, iteration='3')"
   ]
  },
  {
   "cell_type": "code",
   "execution_count": 19,
   "metadata": {},
   "outputs": [],
   "source": [
    "exp2_output = pd.concat([run_1, run_2, run_3])"
   ]
  },
  {
   "cell_type": "code",
   "execution_count": 20,
   "metadata": {},
   "outputs": [],
   "source": [
    "exp2_output = exp2_output[['condition', 'decision']].copy()"
   ]
  },
  {
   "cell_type": "code",
   "execution_count": 21,
   "metadata": {},
   "outputs": [],
   "source": [
    "exp2_plot = exp2_output.groupby('condition').value_counts().reset_index().rename(columns={0:'Selection Rate', 'condition':'Condition'})\n",
    "exp2_plot = exp2_plot[exp2_plot['decision'] == 'Poem']\n",
    "exp2_plot['Selection Rate'] = exp2_plot['Selection Rate'].apply(lambda x: x/48)"
   ]
  },
  {
   "cell_type": "code",
   "execution_count": 22,
   "metadata": {},
   "outputs": [],
   "source": [
    "def clean_condition(string):\n",
    "    if string != 'POEM':\n",
    "        return '\\n'.join(string.split())\n",
    "    else:\n",
    "        return string"
   ]
  },
  {
   "cell_type": "code",
   "execution_count": 23,
   "metadata": {},
   "outputs": [],
   "source": [
    "exp2_plot['Condition'] = exp2_plot['Condition'].apply(clean_condition)"
   ]
  },
  {
   "cell_type": "code",
   "execution_count": 24,
   "metadata": {},
   "outputs": [
    {
     "data": {
      "text/html": [
       "<div>\n",
       "<style scoped>\n",
       "    .dataframe tbody tr th:only-of-type {\n",
       "        vertical-align: middle;\n",
       "    }\n",
       "\n",
       "    .dataframe tbody tr th {\n",
       "        vertical-align: top;\n",
       "    }\n",
       "\n",
       "    .dataframe thead th {\n",
       "        text-align: right;\n",
       "    }\n",
       "</style>\n",
       "<table border=\"1\" class=\"dataframe\">\n",
       "  <thead>\n",
       "    <tr style=\"text-align: right;\">\n",
       "      <th></th>\n",
       "      <th>Condition</th>\n",
       "      <th>decision</th>\n",
       "      <th>Selection Rate</th>\n",
       "    </tr>\n",
       "  </thead>\n",
       "  <tbody>\n",
       "    <tr>\n",
       "      <th>0</th>\n",
       "      <td>OTHER\\n(LINEBREAK)</td>\n",
       "      <td>Poem</td>\n",
       "      <td>1.0000</td>\n",
       "    </tr>\n",
       "    <tr>\n",
       "      <th>2</th>\n",
       "      <td>OTHER\\n(PROSE)</td>\n",
       "      <td>Poem</td>\n",
       "      <td>0.4375</td>\n",
       "    </tr>\n",
       "    <tr>\n",
       "      <th>3</th>\n",
       "      <td>OTHER\\n(RHYME)</td>\n",
       "      <td>Poem</td>\n",
       "      <td>1.0000</td>\n",
       "    </tr>\n",
       "    <tr>\n",
       "      <th>4</th>\n",
       "      <td>POEM</td>\n",
       "      <td>Poem</td>\n",
       "      <td>1.0000</td>\n",
       "    </tr>\n",
       "  </tbody>\n",
       "</table>\n",
       "</div>"
      ],
      "text/plain": [
       "            Condition decision  Selection Rate\n",
       "0  OTHER\\n(LINEBREAK)     Poem          1.0000\n",
       "2      OTHER\\n(PROSE)     Poem          0.4375\n",
       "3      OTHER\\n(RHYME)     Poem          1.0000\n",
       "4                POEM     Poem          1.0000"
      ]
     },
     "execution_count": 24,
     "metadata": {},
     "output_type": "execute_result"
    }
   ],
   "source": [
    "exp2_plot"
   ]
  },
  {
   "cell_type": "code",
   "execution_count": 25,
   "metadata": {},
   "outputs": [],
   "source": [
    "exp2_plot.to_csv('exp2_plot.csv', index=False)"
   ]
  },
  {
   "cell_type": "code",
   "execution_count": 26,
   "metadata": {},
   "outputs": [],
   "source": [
    "exp2_plot = pd.read_csv('exp2_plot.csv')"
   ]
  },
  {
   "cell_type": "code",
   "execution_count": 27,
   "metadata": {},
   "outputs": [],
   "source": [
    "exp2_plot = exp2_plot.rename(columns={'Selection Rate': 'Classification Rate as Poetry'})"
   ]
  },
  {
   "cell_type": "code",
   "execution_count": 32,
   "metadata": {},
   "outputs": [],
   "source": [
    "sns.set(rc = {'figure.figsize':(14,4)})\n",
    "sns.set(font_scale = 1.75)"
   ]
  },
  {
   "cell_type": "code",
   "execution_count": 33,
   "metadata": {},
   "outputs": [],
   "source": [
    "custom_palette = [\"skyblue\", \"orange\", \"purple\", \"green\"]\n",
    "sns.set_palette(custom_palette)"
   ]
  },
  {
   "cell_type": "code",
   "execution_count": 35,
   "metadata": {},
   "outputs": [
    {
     "data": {
      "image/png": "[encoded data removed]",
      "text/plain": [
       "<Figure size 1400x400 with 1 Axes>"
      ]
     },
     "metadata": {},
     "output_type": "display_data"
    }
   ],
   "source": [
    "sns.barplot(x=\"Condition\", y=\"Classification Rate as Poetry\", data=exp2_plot, \n",
    "            order = ['POEM', 'OTHER\\n(LINEBREAK)', 'OTHER\\n(RHYME)', 'OTHER\\n(PROSE)'])\n",
    "plt.title(\"Poetry Selection Rates for Experiment 2 (GPT4)\")\n",
    "plt.savefig('exp2rates.png', dpi=300, bbox_inches='tight')"
   ]
  },
  {
   "cell_type": "code",
   "execution_count": null,
   "metadata": {},
   "outputs": [],
   "source": []
  }
 ],
 "metadata": {
  "kernelspec": {
   "display_name": "verbs",
   "language": "python",
   "name": "python3"
  },
  "language_info": {
   "codemirror_mode": {
    "name": "ipython",
    "version": 3
   },
   "file_extension": ".py",
   "mimetype": "text/x-python",
   "name": "python",
   "nbconvert_exporter": "python",
   "pygments_lexer": "ipython3",
   "version": "3.10.12"
  }
 },
 "nbformat": 4,
 "nbformat_minor": 2
}
