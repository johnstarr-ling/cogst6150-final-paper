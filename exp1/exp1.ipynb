{
 "cells": [
  {
   "cell_type": "code",
   "execution_count": 1,
   "metadata": {},
   "outputs": [],
   "source": [
    "from openai import OpenAI\n",
    "import numpy as np \n",
    "import pandas as pd\n",
    "import seaborn as sns\n",
    "import random\n",
    "import matplotlib.pyplot as plt"
   ]
  },
  {
   "cell_type": "code",
   "execution_count": 2,
   "metadata": {},
   "outputs": [],
   "source": [
    "client = OpenAI()"
   ]
  },
  {
   "cell_type": "markdown",
   "metadata": {},
   "source": [
    "# EXPERIMENT 1"
   ]
  },
  {
   "cell_type": "code",
   "execution_count": 3,
   "metadata": {},
   "outputs": [],
   "source": [
    "# Loading in data:\n",
    "exp1_stimuli = pd.read_csv('experiment1stimuli.csv')"
   ]
  },
  {
   "cell_type": "code",
   "execution_count": 4,
   "metadata": {},
   "outputs": [
    {
     "data": {
      "text/html": [
       "<div>\n",
       "<style scoped>\n",
       "    .dataframe tbody tr th:only-of-type {\n",
       "        vertical-align: middle;\n",
       "    }\n",
       "\n",
       "    .dataframe tbody tr th {\n",
       "        vertical-align: top;\n",
       "    }\n",
       "\n",
       "    .dataframe thead th {\n",
       "        text-align: right;\n",
       "    }\n",
       "</style>\n",
       "<table border=\"1\" class=\"dataframe\">\n",
       "  <thead>\n",
       "    <tr style=\"text-align: right;\">\n",
       "      <th></th>\n",
       "      <th>intendedword</th>\n",
       "      <th>shownword</th>\n",
       "      <th>poem_number</th>\n",
       "      <th>poem_text</th>\n",
       "      <th>condition</th>\n",
       "    </tr>\n",
       "  </thead>\n",
       "  <tbody>\n",
       "    <tr>\n",
       "      <th>0</th>\n",
       "      <td>rest</td>\n",
       "      <td>others</td>\n",
       "      <td>a</td>\n",
       "      <td>At speaking my mind,\\n I'm one of the best.\\n ...</td>\n",
       "      <td>AT</td>\n",
       "    </tr>\n",
       "    <tr>\n",
       "      <th>1</th>\n",
       "      <td>rest</td>\n",
       "      <td>rest</td>\n",
       "      <td>a</td>\n",
       "      <td>At speaking my mind,\\n I'm one of the best.\\n ...</td>\n",
       "      <td>IT</td>\n",
       "    </tr>\n",
       "    <tr>\n",
       "      <th>2</th>\n",
       "      <td>rest</td>\n",
       "      <td>stressed</td>\n",
       "      <td>a</td>\n",
       "      <td>At speaking my mind,\\n I'm one of the best.\\n ...</td>\n",
       "      <td>RHYME</td>\n",
       "    </tr>\n",
       "    <tr>\n",
       "      <th>3</th>\n",
       "      <td>rest</td>\n",
       "      <td>cashier</td>\n",
       "      <td>a</td>\n",
       "      <td>At speaking my mind,\\n I'm one of the best.\\n ...</td>\n",
       "      <td>FILLER</td>\n",
       "    </tr>\n",
       "    <tr>\n",
       "      <th>4</th>\n",
       "      <td>hello</td>\n",
       "      <td>howdy</td>\n",
       "      <td>b</td>\n",
       "      <td>Just a brown fellow\\n who's not afraid of Jell...</td>\n",
       "      <td>AT</td>\n",
       "    </tr>\n",
       "  </tbody>\n",
       "</table>\n",
       "</div>"
      ],
      "text/plain": [
       "  intendedword shownword poem_number  \\\n",
       "0         rest    others           a   \n",
       "1         rest      rest           a   \n",
       "2         rest  stressed           a   \n",
       "3         rest   cashier           a   \n",
       "4        hello     howdy           b   \n",
       "\n",
       "                                           poem_text condition  \n",
       "0  At speaking my mind,\\n I'm one of the best.\\n ...        AT  \n",
       "1  At speaking my mind,\\n I'm one of the best.\\n ...        IT  \n",
       "2  At speaking my mind,\\n I'm one of the best.\\n ...     RHYME  \n",
       "3  At speaking my mind,\\n I'm one of the best.\\n ...    FILLER  \n",
       "4  Just a brown fellow\\n who's not afraid of Jell...        AT  "
      ]
     },
     "execution_count": 4,
     "metadata": {},
     "output_type": "execute_result"
    }
   ],
   "source": [
    "exp1_stimuli.head()"
   ]
  },
  {
   "cell_type": "markdown",
   "metadata": {},
   "source": [
    "To make comparisons fair, we provide the model with instructions and practice trials."
   ]
  },
  {
   "cell_type": "code",
   "execution_count": 5,
   "metadata": {},
   "outputs": [],
   "source": [
    "instructions = \"\"\"INSTRUCTIONS: In this experiment, you will read a lyric with the final word left blank, as indicated by the sequence '______.' You will then be presented a word and the token [BLACK BOX]\n",
    "\n",
    "If the word serves as a proper continuation of the lyric, please choose the word. If the word does not serve as a proper continuation of the lyric, please choose the [BLACK BOX] token.\"\"\""
   ]
  },
  {
   "cell_type": "code",
   "execution_count": 6,
   "metadata": {},
   "outputs": [],
   "source": [
    "practice_trial_1 = \"\"\"\n",
    "Twinkle twinkle\n",
    "little star.\n",
    "How I wonder\n",
    "what you ______.\n",
    "\n",
    "Can the following word fill in the blank?: are\n",
    "\n",
    "are         [BLACK BOX]\n",
    "\n",
    "Above, you should choose the word 'are'. \"\"\""
   ]
  },
  {
   "cell_type": "code",
   "execution_count": 7,
   "metadata": {},
   "outputs": [],
   "source": [
    "practice_trial_2 = \"\"\"\n",
    "Humpty dumpty\n",
    "sat on a wall.\n",
    "Humpty dumpty\n",
    "had a great ______.\n",
    "\n",
    "Can the following word fill in the blank?: running\n",
    "\n",
    "Please select one of the following, given the instructions:\n",
    "running         [BLACK BOX]\n",
    "\n",
    "Above, you should choose the [BLACK BOX] token. \"\"\""
   ]
  },
  {
   "cell_type": "markdown",
   "metadata": {},
   "source": [
    "Now, to run our rhyme-completion task:"
   ]
  },
  {
   "cell_type": "code",
   "execution_count": 8,
   "metadata": {},
   "outputs": [],
   "source": [
    "def exp1_generations(input_row, instructions=instructions, pt1 = practice_trial_1, pt2=practice_trial_2):\n",
    "    word = input_row[1]\n",
    "    targets = [word, '[BLACK BOX]']\n",
    "\n",
    "    # Randomizing position of word and [BLACK BOX]\n",
    "    random.shuffle(targets)\n",
    "\n",
    "    # Joining the targets into a string:\n",
    "    target_string = '\\t\\t'.join(targets)\n",
    "\n",
    "    # Rhyme text\n",
    "    rhyme = input_row[-2]\n",
    "\n",
    "    completion = client.chat.completions.create(\n",
    "        model=\"gpt-4\",\n",
    "        messages=[\n",
    "        {\"role\": \"system\", \"content\": instructions},\n",
    "        {\"role\": \"system\", \"content\": pt1},\n",
    "        {\"role\": \"system\", \"content\": pt2},\n",
    "        {\"role\": \"user\", \"content\": f\"\"\"{rhyme}\n",
    "        Can the following word fill in the blank?: {word}\n",
    "     \n",
    "        Please select one of the following, given the instructions:\n",
    "        {target_string}\n",
    "        \n",
    "        Respond with your choice only. Do not add any additional text or structure besides the token you select.\"\"\"}\n",
    "        ]\n",
    "    )\n",
    "    return completion.choices[0].message.content"
   ]
  },
  {
   "cell_type": "code",
   "execution_count": 9,
   "metadata": {},
   "outputs": [
    {
     "data": {
      "text/plain": [
       "'[BLACK BOX]'"
      ]
     },
     "execution_count": 9,
     "metadata": {},
     "output_type": "execute_result"
    }
   ],
   "source": [
    "# Demo\n",
    "exp1_generations(exp1_stimuli.iloc[0])"
   ]
  },
  {
   "cell_type": "markdown",
   "metadata": {},
   "source": [
    "### Generating GPT4 Responses"
   ]
  },
  {
   "cell_type": "code",
   "execution_count": 10,
   "metadata": {},
   "outputs": [],
   "source": [
    "# Iterating over rows three times:\n",
    "exp1_gpt4_1 = []\n",
    "for i in range(len(exp1_stimuli)):\n",
    "    exp1_gpt4_1.append(exp1_generations(exp1_stimuli.iloc[i]))\n",
    "\n",
    "\n",
    "exp1_gpt4_2 = []\n",
    "for i in range(len(exp1_stimuli)):\n",
    "    exp1_gpt4_2.append(exp1_generations(exp1_stimuli.iloc[i]))\n",
    "\n",
    "\n",
    "exp1_gpt4_3 = []\n",
    "for i in range(len(exp1_stimuli)):\n",
    "    exp1_gpt4_3.append(exp1_generations(exp1_stimuli.iloc[i]))"
   ]
  },
  {
   "cell_type": "code",
   "execution_count": 11,
   "metadata": {},
   "outputs": [],
   "source": [
    "# Adding to our dataframe:\n",
    "exp1_stimuli['gpt4_selections_1'] = exp1_gpt4_1\n",
    "exp1_stimuli['gpt4_selections_2'] = exp1_gpt4_2\n",
    "exp1_stimuli['gpt4_selections_3'] = exp1_gpt4_3"
   ]
  },
  {
   "cell_type": "code",
   "execution_count": 12,
   "metadata": {},
   "outputs": [],
   "source": [
    "def code_accept_reject(string):\n",
    "    if string == '[BLACK BOX]':\n",
    "        return 'Reject'\n",
    "    else:\n",
    "        return 'Accept'"
   ]
  },
  {
   "cell_type": "code",
   "execution_count": 13,
   "metadata": {},
   "outputs": [],
   "source": [
    "exp1_stimuli['decision_1'] = exp1_stimuli['gpt4_selections_1'].apply(code_accept_reject)\n",
    "exp1_stimuli['decision_2'] = exp1_stimuli['gpt4_selections_2'].apply(code_accept_reject)\n",
    "exp1_stimuli['decision_3'] = exp1_stimuli['gpt4_selections_3'].apply(code_accept_reject)"
   ]
  },
  {
   "cell_type": "code",
   "execution_count": 14,
   "metadata": {},
   "outputs": [
    {
     "data": {
      "text/html": [
       "<div>\n",
       "<style scoped>\n",
       "    .dataframe tbody tr th:only-of-type {\n",
       "        vertical-align: middle;\n",
       "    }\n",
       "\n",
       "    .dataframe tbody tr th {\n",
       "        vertical-align: top;\n",
       "    }\n",
       "\n",
       "    .dataframe thead th {\n",
       "        text-align: right;\n",
       "    }\n",
       "</style>\n",
       "<table border=\"1\" class=\"dataframe\">\n",
       "  <thead>\n",
       "    <tr style=\"text-align: right;\">\n",
       "      <th></th>\n",
       "      <th>intendedword</th>\n",
       "      <th>shownword</th>\n",
       "      <th>poem_number</th>\n",
       "      <th>poem_text</th>\n",
       "      <th>condition</th>\n",
       "      <th>gpt4_selections_1</th>\n",
       "      <th>gpt4_selections_2</th>\n",
       "      <th>gpt4_selections_3</th>\n",
       "      <th>decision_1</th>\n",
       "      <th>decision_2</th>\n",
       "      <th>decision_3</th>\n",
       "    </tr>\n",
       "  </thead>\n",
       "  <tbody>\n",
       "    <tr>\n",
       "      <th>0</th>\n",
       "      <td>rest</td>\n",
       "      <td>others</td>\n",
       "      <td>a</td>\n",
       "      <td>At speaking my mind,\\n I'm one of the best.\\n ...</td>\n",
       "      <td>AT</td>\n",
       "      <td>[BLACK BOX]</td>\n",
       "      <td>[BLACK BOX]</td>\n",
       "      <td>[BLACK BOX]</td>\n",
       "      <td>Reject</td>\n",
       "      <td>Reject</td>\n",
       "      <td>Reject</td>\n",
       "    </tr>\n",
       "    <tr>\n",
       "      <th>1</th>\n",
       "      <td>rest</td>\n",
       "      <td>rest</td>\n",
       "      <td>a</td>\n",
       "      <td>At speaking my mind,\\n I'm one of the best.\\n ...</td>\n",
       "      <td>IT</td>\n",
       "      <td>rest</td>\n",
       "      <td>rest</td>\n",
       "      <td>rest</td>\n",
       "      <td>Accept</td>\n",
       "      <td>Accept</td>\n",
       "      <td>Accept</td>\n",
       "    </tr>\n",
       "    <tr>\n",
       "      <th>2</th>\n",
       "      <td>rest</td>\n",
       "      <td>stressed</td>\n",
       "      <td>a</td>\n",
       "      <td>At speaking my mind,\\n I'm one of the best.\\n ...</td>\n",
       "      <td>RHYME</td>\n",
       "      <td>[BLACK BOX]</td>\n",
       "      <td>[BLACK BOX]</td>\n",
       "      <td>[BLACK BOX]</td>\n",
       "      <td>Reject</td>\n",
       "      <td>Reject</td>\n",
       "      <td>Reject</td>\n",
       "    </tr>\n",
       "    <tr>\n",
       "      <th>3</th>\n",
       "      <td>rest</td>\n",
       "      <td>cashier</td>\n",
       "      <td>a</td>\n",
       "      <td>At speaking my mind,\\n I'm one of the best.\\n ...</td>\n",
       "      <td>FILLER</td>\n",
       "      <td>[BLACK BOX]</td>\n",
       "      <td>[BLACK BOX]</td>\n",
       "      <td>[BLACK BOX]</td>\n",
       "      <td>Reject</td>\n",
       "      <td>Reject</td>\n",
       "      <td>Reject</td>\n",
       "    </tr>\n",
       "    <tr>\n",
       "      <th>4</th>\n",
       "      <td>hello</td>\n",
       "      <td>howdy</td>\n",
       "      <td>b</td>\n",
       "      <td>Just a brown fellow\\n who's not afraid of Jell...</td>\n",
       "      <td>AT</td>\n",
       "      <td>howdy</td>\n",
       "      <td>howdy</td>\n",
       "      <td>howdy</td>\n",
       "      <td>Accept</td>\n",
       "      <td>Accept</td>\n",
       "      <td>Accept</td>\n",
       "    </tr>\n",
       "  </tbody>\n",
       "</table>\n",
       "</div>"
      ],
      "text/plain": [
       "  intendedword shownword poem_number  \\\n",
       "0         rest    others           a   \n",
       "1         rest      rest           a   \n",
       "2         rest  stressed           a   \n",
       "3         rest   cashier           a   \n",
       "4        hello     howdy           b   \n",
       "\n",
       "                                           poem_text condition  \\\n",
       "0  At speaking my mind,\\n I'm one of the best.\\n ...        AT   \n",
       "1  At speaking my mind,\\n I'm one of the best.\\n ...        IT   \n",
       "2  At speaking my mind,\\n I'm one of the best.\\n ...     RHYME   \n",
       "3  At speaking my mind,\\n I'm one of the best.\\n ...    FILLER   \n",
       "4  Just a brown fellow\\n who's not afraid of Jell...        AT   \n",
       "\n",
       "  gpt4_selections_1 gpt4_selections_2 gpt4_selections_3 decision_1 decision_2  \\\n",
       "0       [BLACK BOX]       [BLACK BOX]       [BLACK BOX]     Reject     Reject   \n",
       "1              rest              rest              rest     Accept     Accept   \n",
       "2       [BLACK BOX]       [BLACK BOX]       [BLACK BOX]     Reject     Reject   \n",
       "3       [BLACK BOX]       [BLACK BOX]       [BLACK BOX]     Reject     Reject   \n",
       "4             howdy             howdy             howdy     Accept     Accept   \n",
       "\n",
       "  decision_3  \n",
       "0     Reject  \n",
       "1     Accept  \n",
       "2     Reject  \n",
       "3     Reject  \n",
       "4     Accept  "
      ]
     },
     "execution_count": 14,
     "metadata": {},
     "output_type": "execute_result"
    }
   ],
   "source": [
    "exp1_stimuli.head()"
   ]
  },
  {
   "cell_type": "markdown",
   "metadata": {},
   "source": [
    "Let's make our DataFrame a bit more interpretable:"
   ]
  },
  {
   "cell_type": "code",
   "execution_count": 15,
   "metadata": {},
   "outputs": [],
   "source": [
    "def exp1_cleaning(dataframe, iteration='1'):\n",
    "    decision = f'decision_{iteration}'\n",
    "\n",
    "    mini_df = dataframe[['condition', decision]].copy()\n",
    "    mini_df = mini_df.rename(columns={decision:'decision'})\n",
    "    return mini_df"
   ]
  },
  {
   "cell_type": "code",
   "execution_count": 16,
   "metadata": {},
   "outputs": [],
   "source": [
    "run_1 = exp1_cleaning(exp1_stimuli)\n",
    "run_2 = exp1_cleaning(exp1_stimuli, iteration='2')\n",
    "run_3 = exp1_cleaning(exp1_stimuli, iteration='3')"
   ]
  },
  {
   "cell_type": "code",
   "execution_count": 17,
   "metadata": {},
   "outputs": [],
   "source": [
    "exp1_output = pd.concat([run_1, run_2, run_3])"
   ]
  },
  {
   "cell_type": "markdown",
   "metadata": {},
   "source": [
    "Now, calculating the acceptance rates per condition:"
   ]
  },
  {
   "cell_type": "code",
   "execution_count": 18,
   "metadata": {},
   "outputs": [],
   "source": [
    "exp1_output = exp1_output[['condition', 'decision']].copy()"
   ]
  },
  {
   "cell_type": "code",
   "execution_count": 19,
   "metadata": {},
   "outputs": [],
   "source": [
    "exp1_plot = exp1_output.groupby('condition').value_counts().reset_index().rename(columns={0:'Selection Rate', 'condition':'Condition'})\n",
    "exp1_plot = exp1_plot[exp1_plot['decision'] == 'Accept']\n",
    "exp1_plot['Selection Rate'] = exp1_plot['Selection Rate'].apply(lambda x: x/48)"
   ]
  },
  {
   "cell_type": "code",
   "execution_count": 20,
   "metadata": {},
   "outputs": [
    {
     "data": {
      "text/html": [
       "<div>\n",
       "<style scoped>\n",
       "    .dataframe tbody tr th:only-of-type {\n",
       "        vertical-align: middle;\n",
       "    }\n",
       "\n",
       "    .dataframe tbody tr th {\n",
       "        vertical-align: top;\n",
       "    }\n",
       "\n",
       "    .dataframe thead th {\n",
       "        text-align: right;\n",
       "    }\n",
       "</style>\n",
       "<table border=\"1\" class=\"dataframe\">\n",
       "  <thead>\n",
       "    <tr style=\"text-align: right;\">\n",
       "      <th></th>\n",
       "      <th>Condition</th>\n",
       "      <th>decision</th>\n",
       "      <th>Selection Rate</th>\n",
       "    </tr>\n",
       "  </thead>\n",
       "  <tbody>\n",
       "    <tr>\n",
       "      <th>0</th>\n",
       "      <td>AT</td>\n",
       "      <td>Accept</td>\n",
       "      <td>0.937500</td>\n",
       "    </tr>\n",
       "    <tr>\n",
       "      <th>3</th>\n",
       "      <td>FILLER</td>\n",
       "      <td>Accept</td>\n",
       "      <td>0.062500</td>\n",
       "    </tr>\n",
       "    <tr>\n",
       "      <th>4</th>\n",
       "      <td>IT</td>\n",
       "      <td>Accept</td>\n",
       "      <td>1.000000</td>\n",
       "    </tr>\n",
       "    <tr>\n",
       "      <th>6</th>\n",
       "      <td>RHYME</td>\n",
       "      <td>Accept</td>\n",
       "      <td>0.416667</td>\n",
       "    </tr>\n",
       "  </tbody>\n",
       "</table>\n",
       "</div>"
      ],
      "text/plain": [
       "  Condition decision  Selection Rate\n",
       "0        AT   Accept        0.937500\n",
       "3    FILLER   Accept        0.062500\n",
       "4        IT   Accept        1.000000\n",
       "6     RHYME   Accept        0.416667"
      ]
     },
     "execution_count": 20,
     "metadata": {},
     "output_type": "execute_result"
    }
   ],
   "source": [
    "exp1_plot"
   ]
  },
  {
   "cell_type": "code",
   "execution_count": 21,
   "metadata": {},
   "outputs": [],
   "source": [
    "# Saving relevant CSV file for easy access\n",
    "exp1_plot.to_csv('exp1_plot.csv', index=False)"
   ]
  },
  {
   "cell_type": "markdown",
   "metadata": {},
   "source": [
    "Plotting:"
   ]
  },
  {
   "cell_type": "code",
   "execution_count": 22,
   "metadata": {},
   "outputs": [],
   "source": [
    "exp1_plot = pd.read_csv('exp1_plot.csv')"
   ]
  },
  {
   "cell_type": "code",
   "execution_count": 23,
   "metadata": {},
   "outputs": [
    {
     "data": {
      "text/html": [
       "<div>\n",
       "<style scoped>\n",
       "    .dataframe tbody tr th:only-of-type {\n",
       "        vertical-align: middle;\n",
       "    }\n",
       "\n",
       "    .dataframe tbody tr th {\n",
       "        vertical-align: top;\n",
       "    }\n",
       "\n",
       "    .dataframe thead th {\n",
       "        text-align: right;\n",
       "    }\n",
       "</style>\n",
       "<table border=\"1\" class=\"dataframe\">\n",
       "  <thead>\n",
       "    <tr style=\"text-align: right;\">\n",
       "      <th></th>\n",
       "      <th>Condition</th>\n",
       "      <th>decision</th>\n",
       "      <th>Selection Rate</th>\n",
       "    </tr>\n",
       "  </thead>\n",
       "  <tbody>\n",
       "    <tr>\n",
       "      <th>0</th>\n",
       "      <td>AT</td>\n",
       "      <td>Accept</td>\n",
       "      <td>0.937500</td>\n",
       "    </tr>\n",
       "    <tr>\n",
       "      <th>1</th>\n",
       "      <td>FILLER</td>\n",
       "      <td>Accept</td>\n",
       "      <td>0.062500</td>\n",
       "    </tr>\n",
       "    <tr>\n",
       "      <th>2</th>\n",
       "      <td>IT</td>\n",
       "      <td>Accept</td>\n",
       "      <td>1.000000</td>\n",
       "    </tr>\n",
       "    <tr>\n",
       "      <th>3</th>\n",
       "      <td>RHYME</td>\n",
       "      <td>Accept</td>\n",
       "      <td>0.416667</td>\n",
       "    </tr>\n",
       "  </tbody>\n",
       "</table>\n",
       "</div>"
      ],
      "text/plain": [
       "  Condition decision  Selection Rate\n",
       "0        AT   Accept        0.937500\n",
       "1    FILLER   Accept        0.062500\n",
       "2        IT   Accept        1.000000\n",
       "3     RHYME   Accept        0.416667"
      ]
     },
     "execution_count": 23,
     "metadata": {},
     "output_type": "execute_result"
    }
   ],
   "source": [
    "exp1_plot"
   ]
  },
  {
   "cell_type": "code",
   "execution_count": 24,
   "metadata": {},
   "outputs": [],
   "source": [
    "# Reconfiguring column names\n",
    "exp1_plot = exp1_plot.rename(columns={'Selection Rate': 'Target Acceptance Rate'})"
   ]
  },
  {
   "cell_type": "code",
   "execution_count": 25,
   "metadata": {},
   "outputs": [],
   "source": [
    "sns.set(rc = {'figure.figsize':(14,4)})\n",
    "sns.set(font_scale = 2)"
   ]
  },
  {
   "cell_type": "code",
   "execution_count": 26,
   "metadata": {},
   "outputs": [],
   "source": [
    "custom_palette = [\"skyblue\", \"orange\", \"purple\", \"green\"]\n",
    "sns.set_palette(custom_palette)"
   ]
  },
  {
   "cell_type": "code",
   "execution_count": 27,
   "metadata": {},
   "outputs": [
    {
     "data": {
      "image/png": "[encoded data removed]",
      "text/plain": [
       "<Figure size 1400x400 with 1 Axes>"
      ]
     },
     "metadata": {},
     "output_type": "display_data"
    }
   ],
   "source": [
    "sns.barplot(x=\"Condition\", y=\"Target Acceptance Rate\", data=exp1_plot, order=['IT', 'AT', 'RHYME', 'FILLER'])\n",
    "plt.title(\"Target Acceptance Rates for Experiment 1 (GPT4)\")\n",
    "plt.savefig('exp1ratesgpt4.png', dpi=300, bbox_inches='tight')"
   ]
  }
 ],
 "metadata": {
  "kernelspec": {
   "display_name": "verbs",
   "language": "python",
   "name": "python3"
  },
  "language_info": {
   "codemirror_mode": {
    "name": "ipython",
    "version": 3
   },
   "file_extension": ".py",
   "mimetype": "text/x-python",
   "name": "python",
   "nbconvert_exporter": "python",
   "pygments_lexer": "ipython3",
   "version": "3.10.12"
  }
 },
 "nbformat": 4,
 "nbformat_minor": 2
}
